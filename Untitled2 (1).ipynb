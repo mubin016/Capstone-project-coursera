{
 "cells": [
  {
   "cell_type": "markdown",
   "metadata": {},
   "source": [
    "Background:\n",
    "This report has been prepared to support those who plan to settle in Barcelona and open up a new hotel there. It would provide data on what would be the most suitable venue there in terms of the frequency of visits and the number of hotels in the surrounding areas. Being on of the most popular tourist locations of the world, Barcelona stays in the top 10 of the most popular destinations in the world and in the top 3 within Europe. It is definitely a highly beneficial place to start a hotel business there. Barcelona had over 15.8 million visitors in 2018 when the major hotel like W Hotel had an occupancy rate of 113% throughout the year. We shall go through the benefits and pitfalls of opening a new hotel in Barcelona where visiting rate is high and where other popular hotels are already serving. The core of Barcelonais made on 10 districts. But, I shall later concentrate on 3 districts  where the busiest venues of Barcelona can be found to target the tourists visiting the city. With that in mind, I will be able to find the Top 3 districts to open a brand new hotel in the city.\n",
    "\n",
    "\n",
    "\n"
   ]
  },
  {
   "cell_type": "markdown",
   "metadata": {},
   "source": [
    "Business Problem:\n",
    "This report focuses on the issue of where to open a new hotel in a city like Barcelona, once one has decided to go ahead. Let’s imagine an investment company X is willing to open a new luxury hotel, a first and foremost important decision will be the location for its new hotel.\n",
    "The followings may be of interest to them: \n",
    "1.\tOn what basis can the investor decide it’s new hotel’s location?\n",
    "2.\tWhile selecting the location what are the key factors the company look at? For instance, which are the most visited areas in the city?\n",
    "3.\tIn case of an area where other luxury hotels already have their operations, will it be risky to open a  new hotel there?\n",
    " \n"
   ]
  },
  {
   "cell_type": "markdown",
   "metadata": {},
   "source": [
    "Data Description:\n",
    "City analysed in this project : Barcelona.\n",
    "Data 1 : Barcelona has a total of 10 districts. In order to segement the neighborhoods and explore them, we will essentially need a dataset that contains the 10 districts as well as their latitude and logitude coordinates.\n",
    "This dataset exists for free on the web. Link to the dataset is : https://en.wikipedia.org/wiki/Districts_of_Barcelona\n",
    "Data 2: Now once we got the districts' latitude and longitude, let's use Foursquare Location to get the amount of Restaurants venues per district, which will give us an idea of where the tourist are moving when visiting the city. This will already show us the best districts to start a hotel. The Restaurants details can be retrieved using search endpoint. For my project I need only good reated restaurant data (above 8.0), and in search endpoint there is a attribute called Rating, i.e for each Rating foursquare has a defined Raating which will help us to get the desired data.\n",
    "Link to the dataset is: https://developer.foursquare.com/docs/data\n"
   ]
  },
  {
   "cell_type": "code",
   "execution_count": null,
   "metadata": {},
   "outputs": [],
   "source": []
  }
 ],
 "metadata": {
  "kernelspec": {
   "display_name": "Python 3",
   "language": "python",
   "name": "python3"
  },
  "language_info": {
   "codemirror_mode": {
    "name": "ipython",
    "version": 3
   },
   "file_extension": ".py",
   "mimetype": "text/x-python",
   "name": "python",
   "nbconvert_exporter": "python",
   "pygments_lexer": "ipython3",
   "version": "3.7.3"
  }
 },
 "nbformat": 4,
 "nbformat_minor": 2
}
