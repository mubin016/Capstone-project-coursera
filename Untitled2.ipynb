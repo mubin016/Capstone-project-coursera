{
 "cells": [
  {
   "cell_type": "markdown",
   "metadata": {},
   "source": [
    "Background:\n",
    "Recently the immigration authority in Canada, IRCC has been very active and providing permanent residency to the eligible people to go there and live and earn their livelihoods, This in turns helps the Canadian government in gaining significant GDP portions from these immigrants while making the econoic growth fast paced. Many new job opportuities open up for the people holding specific skillsets. Additionally, people having expertise in cullinary skills may also explore the market in Canada and start a business there. \n",
    "\n"
   ]
  },
  {
   "cell_type": "markdown",
   "metadata": {},
   "source": [
    "Business Problem:\n",
    "Thus, being a newbie in Canadian market and trying to start a business there is a sort of a hard nut to crack for the immigrants. In this project I shall try using machine learning to cluster popular neighbourhoods in Canada in terms of the number of restaurants and density of people living there and try to provide a model which will benefit the ones who try to open up a new business there. \n"
   ]
  },
  {
   "cell_type": "code",
   "execution_count": null,
   "metadata": {},
   "outputs": [],
   "source": []
  }
 ],
 "metadata": {
  "kernelspec": {
   "display_name": "Python 3",
   "language": "python",
   "name": "python3"
  },
  "language_info": {
   "codemirror_mode": {
    "name": "ipython",
    "version": 3
   },
   "file_extension": ".py",
   "mimetype": "text/x-python",
   "name": "python",
   "nbconvert_exporter": "python",
   "pygments_lexer": "ipython3",
   "version": "3.7.3"
  }
 },
 "nbformat": 4,
 "nbformat_minor": 2
}
